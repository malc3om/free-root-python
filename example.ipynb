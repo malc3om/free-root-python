{
 "cells": [
  {
   "cell_type": "markdown",
   "metadata": {},
   "source": [
    "# FreeRoot Python - Ubuntu in Python Notebooks\n",
    "\n",
    "This example notebook demonstrates how to use FreeRoot Python to run Ubuntu commands in a notebook environment."
   ]
  },
  {
   "cell_type": "code",
   "execution_count": null,
   "metadata": {},
   "outputs": [],
   "source": [
    "# Install FreeRoot Python if not running from the repo directly\n",
    "!pip install -q git+https://github.com/malc3om/free-root-python.git"
   ]
  },
  {
   "cell_type": "code",
   "execution_count": null,
   "metadata": {},
   "outputs": [],
   "source": [
    "# Import and set up FreeRoot\n",
    "from freeroot import FreeRoot, setup_ubuntu\n",
    "\n",
    "# One-command setup for Ubuntu environment\n",
    "fr = setup_ubuntu()"
   ]
  },
  {
   "cell_type": "markdown",
   "metadata": {},
   "source": [
    "## Running Basic Commands\n",
    "\n",
    "Now that we have Ubuntu running, let's try some basic commands:"
   ]
  },
  {
   "cell_type": "code",
   "execution_count": null,
   "metadata": {},
   "outputs": [],
   "source": [
    "# Check Ubuntu version\n",
    "print(fr.run_command('cat /etc/lsb-release'))"
   ]
  },
  {
   "cell_type": "code",
   "execution_count": null,
   "metadata": {},
   "outputs": [],
   "source": [
    "# Check available disk space\n",
    "print(fr.run_command('df -h'))"
   ]
  },
  {
   "cell_type": "code",
   "execution_count": null,
   "metadata": {},
   "outputs": [],
   "source": [
    "# Install some packages\n",
    "print(fr.run_command('apt-get update && apt-get install -y python3 python3-pip'))"
   ]
  },
  {
   "cell_type": "markdown",
   "metadata": {},
   "source": [
    "## Working with Files\n",
    "\n",
    "You can create, modify and read files in the Ubuntu environment:"
   ]
  },
  {
   "cell_type": "code",
   "execution_count": null,
   "metadata": {},
   "outputs": [],
   "source": [
    "# Create a Python script in Ubuntu\n",
    "fr.run_command('echo \"print(\\'Hello from Ubuntu\\')\" > test.py')\n",
    "\n",
    "# Run the script\n",
    "print(fr.run_command('python3 test.py'))"
   ]
  },
  {
   "cell_type": "markdown",
   "metadata": {},
   "source": [
    "## Advanced Usage\n",
    "\n",
    "You can install and use more complex software:"
   ]
  },
  {
   "cell_type": "code",
   "execution_count": null,
   "metadata": {},
   "outputs": [],
   "source": [
    "# Install additional packages\n",
    "fr.run_command('apt-get install -y nano wget curl')\n",
    "\n",
    "# Check versions\n",
    "print(fr.run_command('nano --version'))"
   ]
  },
  {
   "cell_type": "code",
   "execution_count": null,
   "metadata": {},
   "outputs": [],
   "source": [
    "# Run a more complex command\n",
    "fr.run_command('wget -qO- http://example.com | head -n 10')"
   ]
  },
  {
   "cell_type": "markdown",
   "metadata": {},
   "source": [
    "## Cleanup\n",
    "\n",
    "When you're done, you can clean up the Ubuntu environment to free up disk space:"
   ]
  },
  {
   "cell_type": "code",
   "execution_count": null,
   "metadata": {},
   "outputs": [],
   "source": [
    "# Uncomment to remove the Ubuntu environment\n",
    "# fr.cleanup()"
   ]
  }
 ],
 "metadata": {
  "kernelspec": {
   "display_name": "Python 3",
   "language": "python",
   "name": "python3"
  },
  "language_info": {
   "codemirror_mode": {
    "name": "ipython",
    "version": 3
   },
   "file_extension": ".py",
   "mimetype": "text/x-python",
   "name": "python",
   "nbconvert_exporter": "python",
   "pygments_lexer": "ipython3",
   "version": "3.8.10"
  }
 },
 "nbformat": 4,
 "nbformat_minor": 4
}