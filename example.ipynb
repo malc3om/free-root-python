{
 "cells": [
  {
   "cell_type": "markdown",
   "metadata": {},
   "source": [
    "# FreeRoot Python - Ubuntu in Python Notebooks\n",
    "\n",
    "This example notebook demonstrates how to use FreeRoot Python to run Ubuntu commands in a notebook environment."
   ]
  },
  {
   "cell_type": "code",
   "execution_count": null,
   "metadata": {},
   "outputs": [],
   "source": [
    "# Install FreeRoot Python if not running from the repo directly\n",
    "!pip install -q git+https://github.com/malc3om/free-root-python.git"
   ]
  },
  {
   "cell_type": "code",
   "execution_count": null,
   "metadata": {},
   "outputs": [],
   "source": [
    "# Import and set up FreeRoot\n",
    "from freeroot import FreeRoot, setup_ubuntu\n",
    "\n",
    "# One-command setup for Ubuntu environment\n",
    "fr = setup_ubuntu()"
   ]
  },
  {
   "cell_type": "markdown",
   "metadata": {},
   "source": [
    "## Running Basic Commands\n",
    "\n",
    "Now that we have Ubuntu running, let's try some basic commands:"
   ]
  },
  {
   "cell_type": "code",
   "execution_count": null,
   "metadata": {},
   "outputs": [],
   "source": [
    "# Check Ubuntu version\n",
    "print(fr.run_command('cat /etc/lsb-release'))"
   ]
  },
  {
   "cell_type": "code",
   "execution_count": null,
   "metadata": {},
   "outputs": [],
   "source": [
    "# Check available disk space\n",
    "print(fr.run_command('df -h'))"
   ]
  },
  {
   "cell_type": "code",
   "execution_count": null,
   "metadata": {},
   "outputs": [],
   "source": [
    "# Install some packages\n",
    "print(fr.run_command('apt-get update && apt-get install -y python3 python3-pip'))"
   ]
  },
  {
   "cell_type": "markdown",
   "metadata": {},
   "source": [
    "## Working with Files\n",
    "\n",
    "You can create, modify and read files in the Ubuntu environment:"
   ]
  },
  {
   "cell_type": "code",
   "execution_count": null,
   "metadata": {},
   "outputs": [],
   "source": [
    "# Create a Python script in Ubuntu\n",
    "fr.run_command('echo \"print(\\'Hello from Ubuntu\\')\" > test.py')\n",
    "\n",
    "# Run the script\n",
    "print(fr.run_command('python3 test.py'))"
   ]
  },
  {
   "cell_type": "markdown",
   "metadata": {},
   "source": [
    "## Clone Git Repositories\n",
    "\n",
    "You can directly clone git repositories into your Ubuntu environment:"
   ]
  },
  {
   "cell_type": "code",
   "execution_count": null,
   "metadata": {},
   "outputs": [],
   "source": [
    "# Clone a repository\n",
    "fr.clone_repo('https://github.com/malc3om/free-root-python.git')"
   ]
  },
  {
   "cell_type": "code",
   "execution_count": null,
   "metadata": {},
   "outputs": [],
   "source": [
    "# List the cloned repository files\n",
    "print(fr.run_command('ls -la free-root-python'))"
   ]
  },
  {
   "cell_type": "code",
   "execution_count": null,
   "metadata": {},
   "outputs": [],
   "source": [
    "# Clone another repository to a specific directory with a specific branch\n",
    "fr.clone_repo('https://github.com/torvalds/linux.git', target_dir='linux-kernel', branch='master')\n",
    "\n",
    "# This will only clone the top-level files due to --depth 1\n",
    "print(fr.run_command('ls -la linux-kernel | head -n 10'))"
   ]
  },
  {
   "cell_type": "markdown",
   "metadata": {},
   "source": [
    "## Advanced Usage\n",
    "\n",
    "You can install and use more complex software:"
   ]
  },
  {
   "cell_type": "code",
   "execution_count": null,
   "metadata": {},
   "outputs": [],
   "source": [
    "# Install additional packages\n",
    "fr.run_command('apt-get install -y nano wget curl')\n",
    "\n",
    "# Check versions\n",
    "print(fr.run_command('nano --version'))"
   ]
  },
  {
   "cell_type": "code",
   "execution_count": null,
   "metadata": {},
   "outputs": [],
   "source": [
    "# Run a more complex command\n",
    "fr.run_command('wget -qO- http://example.com | head -n 10')"
   ]
  },
  {
   "cell_type": "markdown",
   "metadata": {},
   "source": [
    "## Troubleshooting Package Installation\n",
    "\n",
    "If you encounter package installation errors, here are some solutions:"
   ]
  },
  {
   "cell_type": "code",
   "execution_count": null,
   "metadata": {},
   "outputs": [],
   "source": [
    "# Fix interrupted package installation - this is the most common issue\n",
    "fr.run_command('dpkg --configure -a')"
   ]
  },
  {
   "cell_type": "code",
   "execution_count": null,
   "metadata": {},
   "outputs": [],
   "source": [
    "# For rare cases, you might need to remove lock files\n",
    "fr.run_command('rm -f /var/lib/dpkg/lock /var/lib/dpkg/lock-frontend')\n",
    "fr.run_command('rm -f /var/lib/apt/lists/lock /var/cache/apt/archives/lock')\n",
    "\n",
    "# Then fix package configuration\n",
    "fr.run_command('dpkg --configure -a')\n",
    "\n",
    "# Fix any broken dependencies\n",
    "fr.run_command('apt-get install -f -y')"
   ]
  },
  {
   "cell_type": "code",
   "execution_count": null,
   "metadata": {},
   "outputs": [],
   "source": [
    "# After fixing package system, try installation again\n",
    "fr.run_command('apt-get update')\n",
    "fr.run_command('apt-get install -y neofetch')\n",
    "\n",
    "# Run neofetch to show system info\n",
    "print(fr.run_command('neofetch --stdout'))"
   ]
  },
  {
   "cell_type": "markdown",
   "metadata": {},
   "source": [
    "## Import Troubleshooting\n",
    "\n",
    "If you have trouble importing the module, you can try adding the package location to your Python path:"
   ]
  },
  {
   "cell_type": "code",
   "execution_count": null,
   "metadata": {},
   "outputs": [],
   "source": [
    "# Example of how to handle import issues\n",
    "import sys\n",
    "# Uncomment and modify path as needed\n",
    "# sys.path.append('/path/to/site-packages')\n",
    "import freeroot\n",
    "\n",
    "# This shows the installed version\n",
    "print(f\"FreeRoot version: {freeroot.__version__ if hasattr(freeroot, '__version__') else 'unknown'}\")"
   ]
  },
  {
   "cell_type": "markdown",
   "metadata": {},
   "source": [
    "## Cleanup\n",
    "\n",
    "When you're done, you can clean up the Ubuntu environment to free up disk space:"
   ]
  },
  {
   "cell_type": "code",
   "execution_count": null,
   "metadata": {},
   "outputs": [],
   "source": [
    "# Uncomment to remove the Ubuntu environment\n",
    "# fr.cleanup()"
   ]
  }
 ],
 "metadata": {
  "kernelspec": {
   "display_name": "Python 3",
   "language": "python",
   "name": "python3"
  },
  "language_info": {
   "codemirror_mode": {
    "name": "ipython",
    "version": 3
   },
   "file_extension": ".py",
   "mimetype": "text/x-python",
   "name": "python",
   "nbconvert_exporter": "python",
   "pygments_lexer": "ipython3",
   "version": "3.8.10"
  }
 },
 "nbformat": 4,
 "nbformat_minor": 4
}